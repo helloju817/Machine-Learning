{
 "cells": [
  {
   "cell_type": "code",
   "execution_count": 1,
   "id": "43c256e1",
   "metadata": {
    "_cell_guid": "e7e0693b-c369-41ee-bd5c-1fa4dfa1b17a",
    "_uuid": "c6a1730e-5fa4-4c0d-bad8-6b9fdb6e31f5",
    "collapsed": false,
    "execution": {
     "iopub.execute_input": "2024-05-03T15:03:01.173862Z",
     "iopub.status.busy": "2024-05-03T15:03:01.172962Z",
     "iopub.status.idle": "2024-05-03T15:03:02.205551Z",
     "shell.execute_reply": "2024-05-03T15:03:02.204151Z"
    },
    "jupyter": {
     "outputs_hidden": false
    },
    "papermill": {
     "duration": 1.042098,
     "end_time": "2024-05-03T15:03:02.208245",
     "exception": false,
     "start_time": "2024-05-03T15:03:01.166147",
     "status": "completed"
    },
    "tags": []
   },
   "outputs": [
    {
     "name": "stdout",
     "output_type": "stream",
     "text": [
      "/kaggle/input/titanic/train.csv\n",
      "/kaggle/input/titanic/test.csv\n",
      "/kaggle/input/titanic/gender_submission.csv\n"
     ]
    }
   ],
   "source": [
    "# This Python 3 environment comes with many helpful analytics libraries installed\n",
    "# It is defined by the kaggle/python Docker image: https://github.com/kaggle/docker-python\n",
    "# For example, here's several helpful packages to load\n",
    "\n",
    "import numpy as np # linear algebra\n",
    "import pandas as pd # data processing, CSV file I/O (e.g. pd.read_csv)\n",
    "\n",
    "# Input data files are available in the read-only \"../input/\" directory\n",
    "# For example, running this (by clicking run or pressing Shift+Enter) will list all files under the input directory\n",
    "\n",
    "import os\n",
    "for dirname, _, filenames in os.walk('/kaggle/input'):\n",
    "    for filename in filenames:\n",
    "        print(os.path.join(dirname, filename))\n",
    "\n",
    "# You can write up to 20GB to the current directory (/kaggle/working/) that gets preserved as output when you create a version using \"Save & Run All\" \n",
    "# You can also write temporary files to /kaggle/temp/, but they won't be saved outside of the current session"
   ]
  },
  {
   "cell_type": "code",
   "execution_count": 2,
   "id": "d0a1498d",
   "metadata": {
    "execution": {
     "iopub.execute_input": "2024-05-03T15:03:02.219795Z",
     "iopub.status.busy": "2024-05-03T15:03:02.218979Z",
     "iopub.status.idle": "2024-05-03T15:03:02.256234Z",
     "shell.execute_reply": "2024-05-03T15:03:02.254702Z"
    },
    "papermill": {
     "duration": 0.046765,
     "end_time": "2024-05-03T15:03:02.259362",
     "exception": false,
     "start_time": "2024-05-03T15:03:02.212597",
     "status": "completed"
    },
    "tags": []
   },
   "outputs": [],
   "source": [
    "train_data = pd.read_csv(\"/kaggle/input/titanic/train.csv\")\n",
    "test_data = pd.read_csv(\"/kaggle/input/titanic/test.csv\")"
   ]
  },
  {
   "cell_type": "code",
   "execution_count": 3,
   "id": "a22aeacd",
   "metadata": {
    "execution": {
     "iopub.execute_input": "2024-05-03T15:03:02.269895Z",
     "iopub.status.busy": "2024-05-03T15:03:02.269449Z",
     "iopub.status.idle": "2024-05-03T15:03:02.300176Z",
     "shell.execute_reply": "2024-05-03T15:03:02.298746Z"
    },
    "papermill": {
     "duration": 0.039414,
     "end_time": "2024-05-03T15:03:02.302956",
     "exception": false,
     "start_time": "2024-05-03T15:03:02.263542",
     "status": "completed"
    },
    "tags": []
   },
   "outputs": [
    {
     "data": {
      "text/html": [
       "<div>\n",
       "<style scoped>\n",
       "    .dataframe tbody tr th:only-of-type {\n",
       "        vertical-align: middle;\n",
       "    }\n",
       "\n",
       "    .dataframe tbody tr th {\n",
       "        vertical-align: top;\n",
       "    }\n",
       "\n",
       "    .dataframe thead th {\n",
       "        text-align: right;\n",
       "    }\n",
       "</style>\n",
       "<table border=\"1\" class=\"dataframe\">\n",
       "  <thead>\n",
       "    <tr style=\"text-align: right;\">\n",
       "      <th></th>\n",
       "      <th>PassengerId</th>\n",
       "      <th>Survived</th>\n",
       "      <th>Pclass</th>\n",
       "      <th>Name</th>\n",
       "      <th>Sex</th>\n",
       "      <th>Age</th>\n",
       "      <th>SibSp</th>\n",
       "      <th>Parch</th>\n",
       "      <th>Ticket</th>\n",
       "      <th>Fare</th>\n",
       "      <th>Cabin</th>\n",
       "      <th>Embarked</th>\n",
       "    </tr>\n",
       "  </thead>\n",
       "  <tbody>\n",
       "    <tr>\n",
       "      <th>0</th>\n",
       "      <td>1</td>\n",
       "      <td>0</td>\n",
       "      <td>3</td>\n",
       "      <td>Braund, Mr. Owen Harris</td>\n",
       "      <td>male</td>\n",
       "      <td>22.0</td>\n",
       "      <td>1</td>\n",
       "      <td>0</td>\n",
       "      <td>A/5 21171</td>\n",
       "      <td>7.25</td>\n",
       "      <td>NaN</td>\n",
       "      <td>S</td>\n",
       "    </tr>\n",
       "  </tbody>\n",
       "</table>\n",
       "</div>"
      ],
      "text/plain": [
       "   PassengerId  Survived  Pclass                     Name   Sex   Age  SibSp  \\\n",
       "0            1         0       3  Braund, Mr. Owen Harris  male  22.0      1   \n",
       "\n",
       "   Parch     Ticket  Fare Cabin Embarked  \n",
       "0      0  A/5 21171  7.25   NaN        S  "
      ]
     },
     "execution_count": 3,
     "metadata": {},
     "output_type": "execute_result"
    }
   ],
   "source": [
    "train_data.head(1)"
   ]
  },
  {
   "cell_type": "code",
   "execution_count": 4,
   "id": "fb6b820f",
   "metadata": {
    "execution": {
     "iopub.execute_input": "2024-05-03T15:03:02.313140Z",
     "iopub.status.busy": "2024-05-03T15:03:02.312738Z",
     "iopub.status.idle": "2024-05-03T15:03:02.332470Z",
     "shell.execute_reply": "2024-05-03T15:03:02.330981Z"
    },
    "papermill": {
     "duration": 0.028131,
     "end_time": "2024-05-03T15:03:02.335522",
     "exception": false,
     "start_time": "2024-05-03T15:03:02.307391",
     "status": "completed"
    },
    "tags": []
   },
   "outputs": [
    {
     "data": {
      "text/html": [
       "<div>\n",
       "<style scoped>\n",
       "    .dataframe tbody tr th:only-of-type {\n",
       "        vertical-align: middle;\n",
       "    }\n",
       "\n",
       "    .dataframe tbody tr th {\n",
       "        vertical-align: top;\n",
       "    }\n",
       "\n",
       "    .dataframe thead th {\n",
       "        text-align: right;\n",
       "    }\n",
       "</style>\n",
       "<table border=\"1\" class=\"dataframe\">\n",
       "  <thead>\n",
       "    <tr style=\"text-align: right;\">\n",
       "      <th></th>\n",
       "      <th>PassengerId</th>\n",
       "      <th>Pclass</th>\n",
       "      <th>Name</th>\n",
       "      <th>Sex</th>\n",
       "      <th>Age</th>\n",
       "      <th>SibSp</th>\n",
       "      <th>Parch</th>\n",
       "      <th>Ticket</th>\n",
       "      <th>Fare</th>\n",
       "      <th>Cabin</th>\n",
       "      <th>Embarked</th>\n",
       "    </tr>\n",
       "  </thead>\n",
       "  <tbody>\n",
       "    <tr>\n",
       "      <th>0</th>\n",
       "      <td>892</td>\n",
       "      <td>3</td>\n",
       "      <td>Kelly, Mr. James</td>\n",
       "      <td>male</td>\n",
       "      <td>34.5</td>\n",
       "      <td>0</td>\n",
       "      <td>0</td>\n",
       "      <td>330911</td>\n",
       "      <td>7.8292</td>\n",
       "      <td>NaN</td>\n",
       "      <td>Q</td>\n",
       "    </tr>\n",
       "  </tbody>\n",
       "</table>\n",
       "</div>"
      ],
      "text/plain": [
       "   PassengerId  Pclass              Name   Sex   Age  SibSp  Parch  Ticket  \\\n",
       "0          892       3  Kelly, Mr. James  male  34.5      0      0  330911   \n",
       "\n",
       "     Fare Cabin Embarked  \n",
       "0  7.8292   NaN        Q  "
      ]
     },
     "execution_count": 4,
     "metadata": {},
     "output_type": "execute_result"
    }
   ],
   "source": [
    "test_data.head(1)"
   ]
  },
  {
   "cell_type": "markdown",
   "id": "fdcd0cad",
   "metadata": {
    "papermill": {
     "duration": 0.004708,
     "end_time": "2024-05-03T15:03:02.344846",
     "exception": false,
     "start_time": "2024-05-03T15:03:02.340138",
     "status": "completed"
    },
    "tags": []
   },
   "source": [
    "# EDA"
   ]
  },
  {
   "cell_type": "code",
   "execution_count": 5,
   "id": "34db51e5",
   "metadata": {
    "execution": {
     "iopub.execute_input": "2024-05-03T15:03:02.355765Z",
     "iopub.status.busy": "2024-05-03T15:03:02.355284Z",
     "iopub.status.idle": "2024-05-03T15:03:02.369192Z",
     "shell.execute_reply": "2024-05-03T15:03:02.368079Z"
    },
    "papermill": {
     "duration": 0.023381,
     "end_time": "2024-05-03T15:03:02.372651",
     "exception": false,
     "start_time": "2024-05-03T15:03:02.349270",
     "status": "completed"
    },
    "tags": []
   },
   "outputs": [
    {
     "name": "stdout",
     "output_type": "stream",
     "text": [
      "여성의 생존 확률(%) 0.7420382165605095\n"
     ]
    }
   ],
   "source": [
    "women = train_data.loc[train_data.Sex =='female'][\"Survived\"]\n",
    "rate_women = sum(women)/len(women)\n",
    "\n",
    "print(\"여성의 생존 확률(%)\", rate_women)"
   ]
  },
  {
   "cell_type": "code",
   "execution_count": 6,
   "id": "8906711b",
   "metadata": {
    "execution": {
     "iopub.execute_input": "2024-05-03T15:03:02.383642Z",
     "iopub.status.busy": "2024-05-03T15:03:02.383228Z",
     "iopub.status.idle": "2024-05-03T15:03:02.391795Z",
     "shell.execute_reply": "2024-05-03T15:03:02.390104Z"
    },
    "papermill": {
     "duration": 0.017455,
     "end_time": "2024-05-03T15:03:02.394886",
     "exception": false,
     "start_time": "2024-05-03T15:03:02.377431",
     "status": "completed"
    },
    "tags": []
   },
   "outputs": [
    {
     "name": "stdout",
     "output_type": "stream",
     "text": [
      "남성의 생존 확률(%) 0.18890814558058924\n"
     ]
    }
   ],
   "source": [
    "men = train_data.loc[train_data.Sex =='male'][\"Survived\"]\n",
    "rate_men = sum(men)/len(men)\n",
    "\n",
    "print(\"남성의 생존 확률(%)\", rate_men)"
   ]
  },
  {
   "cell_type": "code",
   "execution_count": 7,
   "id": "31082d26",
   "metadata": {
    "execution": {
     "iopub.execute_input": "2024-05-03T15:03:02.406596Z",
     "iopub.status.busy": "2024-05-03T15:03:02.405687Z",
     "iopub.status.idle": "2024-05-03T15:03:02.432126Z",
     "shell.execute_reply": "2024-05-03T15:03:02.430375Z"
    },
    "papermill": {
     "duration": 0.035075,
     "end_time": "2024-05-03T15:03:02.434575",
     "exception": false,
     "start_time": "2024-05-03T15:03:02.399500",
     "status": "completed"
    },
    "tags": []
   },
   "outputs": [
    {
     "name": "stdout",
     "output_type": "stream",
     "text": [
      "<class 'pandas.core.frame.DataFrame'>\n",
      "RangeIndex: 891 entries, 0 to 890\n",
      "Data columns (total 12 columns):\n",
      " #   Column       Non-Null Count  Dtype  \n",
      "---  ------       --------------  -----  \n",
      " 0   PassengerId  891 non-null    int64  \n",
      " 1   Survived     891 non-null    int64  \n",
      " 2   Pclass       891 non-null    int64  \n",
      " 3   Name         891 non-null    object \n",
      " 4   Sex          891 non-null    object \n",
      " 5   Age          714 non-null    float64\n",
      " 6   SibSp        891 non-null    int64  \n",
      " 7   Parch        891 non-null    int64  \n",
      " 8   Ticket       891 non-null    object \n",
      " 9   Fare         891 non-null    float64\n",
      " 10  Cabin        204 non-null    object \n",
      " 11  Embarked     889 non-null    object \n",
      "dtypes: float64(2), int64(5), object(5)\n",
      "memory usage: 83.7+ KB\n"
     ]
    }
   ],
   "source": [
    "train_data.info()"
   ]
  },
  {
   "cell_type": "code",
   "execution_count": 8,
   "id": "7d6dc4ab",
   "metadata": {
    "execution": {
     "iopub.execute_input": "2024-05-03T15:03:02.446496Z",
     "iopub.status.busy": "2024-05-03T15:03:02.446082Z",
     "iopub.status.idle": "2024-05-03T15:03:02.459799Z",
     "shell.execute_reply": "2024-05-03T15:03:02.458621Z"
    },
    "papermill": {
     "duration": 0.022532,
     "end_time": "2024-05-03T15:03:02.462296",
     "exception": false,
     "start_time": "2024-05-03T15:03:02.439764",
     "status": "completed"
    },
    "tags": []
   },
   "outputs": [
    {
     "data": {
      "text/plain": [
       "PassengerId    891\n",
       "Survived         2\n",
       "Pclass           3\n",
       "Name           891\n",
       "Sex              2\n",
       "Age             88\n",
       "SibSp            7\n",
       "Parch            7\n",
       "Ticket         681\n",
       "Fare           248\n",
       "Cabin          147\n",
       "Embarked         3\n",
       "dtype: int64"
      ]
     },
     "execution_count": 8,
     "metadata": {},
     "output_type": "execute_result"
    }
   ],
   "source": [
    "train_data.nunique() #Pclass: 1등급/2등급/3등급 -> 범주형 -> one-hot encoding"
   ]
  },
  {
   "cell_type": "markdown",
   "id": "187c1c9c",
   "metadata": {
    "papermill": {
     "duration": 0.004644,
     "end_time": "2024-05-03T15:03:02.471741",
     "exception": false,
     "start_time": "2024-05-03T15:03:02.467097",
     "status": "completed"
    },
    "tags": []
   },
   "source": [
    "# 모델 학습 & 예측"
   ]
  },
  {
   "cell_type": "code",
   "execution_count": 9,
   "id": "b7cfc5d4",
   "metadata": {
    "execution": {
     "iopub.execute_input": "2024-05-03T15:03:02.484219Z",
     "iopub.status.busy": "2024-05-03T15:03:02.483139Z",
     "iopub.status.idle": "2024-05-03T15:03:04.625215Z",
     "shell.execute_reply": "2024-05-03T15:03:04.624211Z"
    },
    "papermill": {
     "duration": 2.151006,
     "end_time": "2024-05-03T15:03:04.627547",
     "exception": false,
     "start_time": "2024-05-03T15:03:02.476541",
     "status": "completed"
    },
    "tags": []
   },
   "outputs": [],
   "source": [
    "from sklearn.ensemble import RandomForestClassifier\n",
    "\n",
    "y = train_data['Survived']\n",
    "features = [\"Pclass\", \"Sex\", \"SibSp\",\"Parch\"] #4개 컬럼만 선택\n",
    "#one-hot encoding\n",
    "X=pd.get_dummies(train_data[features])\n",
    "X_test = pd.get_dummies(test_data[features])\n",
    "\n",
    "model = RandomForestClassifier(n_estimators=100, max_depth =5, random_state=1)\n",
    "model.fit(X,y)\n",
    "predicitons = model.predict(X_test)"
   ]
  },
  {
   "cell_type": "code",
   "execution_count": 10,
   "id": "8863ed40",
   "metadata": {
    "execution": {
     "iopub.execute_input": "2024-05-03T15:03:04.644729Z",
     "iopub.status.busy": "2024-05-03T15:03:04.643503Z",
     "iopub.status.idle": "2024-05-03T15:03:04.653354Z",
     "shell.execute_reply": "2024-05-03T15:03:04.651933Z"
    },
    "papermill": {
     "duration": 0.021756,
     "end_time": "2024-05-03T15:03:04.656563",
     "exception": false,
     "start_time": "2024-05-03T15:03:04.634807",
     "status": "completed"
    },
    "tags": []
   },
   "outputs": [],
   "source": [
    "output=pd.DataFrame({'PassengerId' : test_data.PassengerId, 'Survived' : predicitons})"
   ]
  },
  {
   "cell_type": "code",
   "execution_count": 11,
   "id": "77dd682b",
   "metadata": {
    "execution": {
     "iopub.execute_input": "2024-05-03T15:03:04.668076Z",
     "iopub.status.busy": "2024-05-03T15:03:04.667677Z",
     "iopub.status.idle": "2024-05-03T15:03:04.676603Z",
     "shell.execute_reply": "2024-05-03T15:03:04.675650Z"
    },
    "papermill": {
     "duration": 0.017501,
     "end_time": "2024-05-03T15:03:04.679111",
     "exception": false,
     "start_time": "2024-05-03T15:03:04.661610",
     "status": "completed"
    },
    "tags": []
   },
   "outputs": [],
   "source": [
    "output.to_csv('submission.csv', index = False)"
   ]
  }
 ],
 "metadata": {
  "kaggle": {
   "accelerator": "none",
   "dataSources": [
    {
     "databundleVersionId": 26502,
     "sourceId": 3136,
     "sourceType": "competition"
    }
   ],
   "dockerImageVersionId": 30698,
   "isGpuEnabled": false,
   "isInternetEnabled": false,
   "language": "python",
   "sourceType": "notebook"
  },
  "kernelspec": {
   "display_name": "Python 3",
   "language": "python",
   "name": "python3"
  },
  "language_info": {
   "codemirror_mode": {
    "name": "ipython",
    "version": 3
   },
   "file_extension": ".py",
   "mimetype": "text/x-python",
   "name": "python",
   "nbconvert_exporter": "python",
   "pygments_lexer": "ipython3",
   "version": "3.10.13"
  },
  "papermill": {
   "default_parameters": {},
   "duration": 7.334963,
   "end_time": "2024-05-03T15:03:05.406484",
   "environment_variables": {},
   "exception": null,
   "input_path": "__notebook__.ipynb",
   "output_path": "__notebook__.ipynb",
   "parameters": {},
   "start_time": "2024-05-03T15:02:58.071521",
   "version": "2.5.0"
  }
 },
 "nbformat": 4,
 "nbformat_minor": 5
}
