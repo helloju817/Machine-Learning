{
 "cells": [
  {
   "cell_type": "markdown",
   "id": "97ebd322",
   "metadata": {},
   "source": [
    "<h1> Logistic Regression </h1>"
   ]
  },
  {
   "cell_type": "code",
   "execution_count": 11,
   "id": "54ef6bd1",
   "metadata": {},
   "outputs": [
    {
     "name": "stderr",
     "output_type": "stream",
     "text": [
      "C:\\Users\\WIN10\\anaconda3\\lib\\site-packages\\IPython\\core\\interactiveshell.py:3165: DtypeWarning: Columns (14,17,20,22,23,27) have mixed types.Specify dtype option on import or set low_memory=False.\n",
      "  has_raised = await self.run_ast_nodes(code_ast.body, cell_name,\n"
     ]
    },
    {
     "data": {
      "text/html": [
       "<div>\n",
       "<style scoped>\n",
       "    .dataframe tbody tr th:only-of-type {\n",
       "        vertical-align: middle;\n",
       "    }\n",
       "\n",
       "    .dataframe tbody tr th {\n",
       "        vertical-align: top;\n",
       "    }\n",
       "\n",
       "    .dataframe thead th {\n",
       "        text-align: right;\n",
       "    }\n",
       "</style>\n",
       "<table border=\"1\" class=\"dataframe\">\n",
       "  <thead>\n",
       "    <tr style=\"text-align: right;\">\n",
       "      <th></th>\n",
       "      <th>State</th>\n",
       "      <th>Currency</th>\n",
       "      <th>Top Category</th>\n",
       "      <th>Comments</th>\n",
       "      <th>Rewards</th>\n",
       "      <th>Goal</th>\n",
       "      <th>Backers</th>\n",
       "      <th>Duration in Days</th>\n",
       "      <th>Facebook Connected</th>\n",
       "      <th>Facebook Friends</th>\n",
       "      <th>Facebook Shares</th>\n",
       "      <th>Has Video</th>\n",
       "      <th>Creator - # Projects Created</th>\n",
       "      <th>Creator - # Projects Backed</th>\n",
       "      <th># Videos</th>\n",
       "      <th># Images</th>\n",
       "      <th># Words (Description)</th>\n",
       "      <th># Words (Risks and Challenges)</th>\n",
       "      <th># FAQs</th>\n",
       "    </tr>\n",
       "  </thead>\n",
       "  <tbody>\n",
       "    <tr>\n",
       "      <th>0</th>\n",
       "      <td>failed</td>\n",
       "      <td>USD</td>\n",
       "      <td>Art</td>\n",
       "      <td>0</td>\n",
       "      <td>9</td>\n",
       "      <td>20000</td>\n",
       "      <td>2</td>\n",
       "      <td>30</td>\n",
       "      <td>Yes</td>\n",
       "      <td>272.0</td>\n",
       "      <td>70</td>\n",
       "      <td>Yes</td>\n",
       "      <td>1.0</td>\n",
       "      <td>0.0</td>\n",
       "      <td>0.0</td>\n",
       "      <td>2</td>\n",
       "      <td>297</td>\n",
       "      <td>153.0</td>\n",
       "      <td>0.0</td>\n",
       "    </tr>\n",
       "    <tr>\n",
       "      <th>1</th>\n",
       "      <td>failed</td>\n",
       "      <td>USD</td>\n",
       "      <td>Film &amp; Video</td>\n",
       "      <td>0</td>\n",
       "      <td>8</td>\n",
       "      <td>3000</td>\n",
       "      <td>5</td>\n",
       "      <td>33</td>\n",
       "      <td>Yes</td>\n",
       "      <td>573.0</td>\n",
       "      <td>57</td>\n",
       "      <td>Yes</td>\n",
       "      <td>1.0</td>\n",
       "      <td>4.0</td>\n",
       "      <td>0.0</td>\n",
       "      <td>0</td>\n",
       "      <td>276</td>\n",
       "      <td>98.0</td>\n",
       "      <td>0.0</td>\n",
       "    </tr>\n",
       "    <tr>\n",
       "      <th>2</th>\n",
       "      <td>failed</td>\n",
       "      <td>USD</td>\n",
       "      <td>Fashion</td>\n",
       "      <td>2</td>\n",
       "      <td>17</td>\n",
       "      <td>5000</td>\n",
       "      <td>62</td>\n",
       "      <td>30</td>\n",
       "      <td>No</td>\n",
       "      <td>NaN</td>\n",
       "      <td>158</td>\n",
       "      <td>No</td>\n",
       "      <td>2.0</td>\n",
       "      <td>2.0</td>\n",
       "      <td>0.0</td>\n",
       "      <td>12</td>\n",
       "      <td>1049</td>\n",
       "      <td>66.0</td>\n",
       "      <td>2.0</td>\n",
       "    </tr>\n",
       "    <tr>\n",
       "      <th>3</th>\n",
       "      <td>failed</td>\n",
       "      <td>USD</td>\n",
       "      <td>Publishing</td>\n",
       "      <td>0</td>\n",
       "      <td>4</td>\n",
       "      <td>5000</td>\n",
       "      <td>5</td>\n",
       "      <td>60</td>\n",
       "      <td>Yes</td>\n",
       "      <td>1285.0</td>\n",
       "      <td>2</td>\n",
       "      <td>Yes</td>\n",
       "      <td>1.0</td>\n",
       "      <td>2.0</td>\n",
       "      <td>0.0</td>\n",
       "      <td>0</td>\n",
       "      <td>309</td>\n",
       "      <td>169.0</td>\n",
       "      <td>0.0</td>\n",
       "    </tr>\n",
       "    <tr>\n",
       "      <th>4</th>\n",
       "      <td>failed</td>\n",
       "      <td>USD</td>\n",
       "      <td>Publishing</td>\n",
       "      <td>0</td>\n",
       "      <td>12</td>\n",
       "      <td>12000</td>\n",
       "      <td>16</td>\n",
       "      <td>30</td>\n",
       "      <td>Yes</td>\n",
       "      <td>969.0</td>\n",
       "      <td>411</td>\n",
       "      <td>Yes</td>\n",
       "      <td>1.0</td>\n",
       "      <td>0.0</td>\n",
       "      <td>0.0</td>\n",
       "      <td>6</td>\n",
       "      <td>1636</td>\n",
       "      <td>216.0</td>\n",
       "      <td>0.0</td>\n",
       "    </tr>\n",
       "  </tbody>\n",
       "</table>\n",
       "</div>"
      ],
      "text/plain": [
       "    State Currency  Top Category  Comments  Rewards   Goal Backers  \\\n",
       "0  failed      USD           Art         0        9  20000       2   \n",
       "1  failed      USD  Film & Video         0        8   3000       5   \n",
       "2  failed      USD       Fashion         2       17   5000      62   \n",
       "3  failed      USD    Publishing         0        4   5000       5   \n",
       "4  failed      USD    Publishing         0       12  12000      16   \n",
       "\n",
       "  Duration in Days Facebook Connected  Facebook Friends Facebook Shares  \\\n",
       "0               30                Yes             272.0              70   \n",
       "1               33                Yes             573.0              57   \n",
       "2               30                 No               NaN             158   \n",
       "3               60                Yes            1285.0               2   \n",
       "4               30                Yes             969.0             411   \n",
       "\n",
       "  Has Video  Creator - # Projects Created  Creator - # Projects Backed  \\\n",
       "0       Yes                           1.0                          0.0   \n",
       "1       Yes                           1.0                          4.0   \n",
       "2        No                           2.0                          2.0   \n",
       "3       Yes                           1.0                          2.0   \n",
       "4       Yes                           1.0                          0.0   \n",
       "\n",
       "   # Videos  # Images  # Words (Description)  # Words (Risks and Challenges)  \\\n",
       "0       0.0         2                    297                           153.0   \n",
       "1       0.0         0                    276                            98.0   \n",
       "2       0.0        12                   1049                            66.0   \n",
       "3       0.0         0                    309                           169.0   \n",
       "4       0.0         6                   1636                           216.0   \n",
       "\n",
       "   # FAQs  \n",
       "0     0.0  \n",
       "1     0.0  \n",
       "2     2.0  \n",
       "3     0.0  \n",
       "4     0.0  "
      ]
     },
     "execution_count": 11,
     "metadata": {},
     "output_type": "execute_result"
    }
   ],
   "source": [
    "import pandas as pd\n",
    "import matplotlib.pyplot as plt\n",
    "import seaborn as sns\n",
    "%matplotlib inline\n",
    "from sklearn.model_selection import train_test_split\n",
    "from sklearn.linear_model import LogisticRegression\n",
    "from sklearn.metrics import confusion_matrix,classification_report\n",
    "\n",
    "df=pd.read_csv('C:\\\\Users\\\\WIN10\\\\Downloads\\\\18k_Projects0.csv')\n",
    "\n",
    "\n",
    "del df['Id']\n",
    "del df['Name']\n",
    "del df['Url']\n",
    "del df['Location']\n",
    "del df['Pledged']\n",
    "del df['Creator']\n",
    "del df['Category']\n",
    "del df['Updates']\n",
    "del df['Start']\n",
    "del df['End']\n",
    "del df['Latitude']\n",
    "del df['Longitude']\n",
    "del df['Start Timestamp (UTC)']\n",
    "del df['End Timestamp (UTC)']\n",
    "del df['Creator Bio']\n",
    "del df['Creator Website']\n",
    "df.head()"
   ]
  },
  {
   "cell_type": "markdown",
   "id": "85a20298",
   "metadata": {},
   "source": [
    "<h2> One-Hot-Encoding </h2>"
   ]
  },
  {
   "cell_type": "markdown",
   "id": "1eb4fb59",
   "metadata": {},
   "source": [
    "<h3>non-numeric values -> numeric values</h3>"
   ]
  },
  {
   "cell_type": "code",
   "execution_count": 12,
   "id": "ae3fad61",
   "metadata": {},
   "outputs": [
    {
     "data": {
      "text/html": [
       "<div>\n",
       "<style scoped>\n",
       "    .dataframe tbody tr th:only-of-type {\n",
       "        vertical-align: middle;\n",
       "    }\n",
       "\n",
       "    .dataframe tbody tr th {\n",
       "        vertical-align: top;\n",
       "    }\n",
       "\n",
       "    .dataframe thead th {\n",
       "        text-align: right;\n",
       "    }\n",
       "</style>\n",
       "<table border=\"1\" class=\"dataframe\">\n",
       "  <thead>\n",
       "    <tr style=\"text-align: right;\">\n",
       "      <th></th>\n",
       "      <th>Comments</th>\n",
       "      <th>Rewards</th>\n",
       "      <th>Goal</th>\n",
       "      <th>Backers</th>\n",
       "      <th>Duration in Days</th>\n",
       "      <th>Facebook Friends</th>\n",
       "      <th>Facebook Shares</th>\n",
       "      <th>Creator - # Projects Created</th>\n",
       "      <th>Creator - # Projects Backed</th>\n",
       "      <th># Videos</th>\n",
       "      <th>...</th>\n",
       "      <th>Top Category_Food</th>\n",
       "      <th>Top Category_Games</th>\n",
       "      <th>Top Category_Journalism</th>\n",
       "      <th>Top Category_Music</th>\n",
       "      <th>Top Category_Photography</th>\n",
       "      <th>Top Category_Publishing</th>\n",
       "      <th>Top Category_Technology</th>\n",
       "      <th>Top Category_Theater</th>\n",
       "      <th>Facebook Connected_Yes</th>\n",
       "      <th>Has Video_Yes</th>\n",
       "    </tr>\n",
       "  </thead>\n",
       "  <tbody>\n",
       "    <tr>\n",
       "      <th>0</th>\n",
       "      <td>0</td>\n",
       "      <td>9</td>\n",
       "      <td>20000</td>\n",
       "      <td>2</td>\n",
       "      <td>30</td>\n",
       "      <td>272.0</td>\n",
       "      <td>70</td>\n",
       "      <td>1.0</td>\n",
       "      <td>0.0</td>\n",
       "      <td>0.0</td>\n",
       "      <td>...</td>\n",
       "      <td>0</td>\n",
       "      <td>0</td>\n",
       "      <td>0</td>\n",
       "      <td>0</td>\n",
       "      <td>0</td>\n",
       "      <td>0</td>\n",
       "      <td>0</td>\n",
       "      <td>0</td>\n",
       "      <td>1</td>\n",
       "      <td>1</td>\n",
       "    </tr>\n",
       "    <tr>\n",
       "      <th>1</th>\n",
       "      <td>0</td>\n",
       "      <td>8</td>\n",
       "      <td>3000</td>\n",
       "      <td>5</td>\n",
       "      <td>33</td>\n",
       "      <td>573.0</td>\n",
       "      <td>57</td>\n",
       "      <td>1.0</td>\n",
       "      <td>4.0</td>\n",
       "      <td>0.0</td>\n",
       "      <td>...</td>\n",
       "      <td>0</td>\n",
       "      <td>0</td>\n",
       "      <td>0</td>\n",
       "      <td>0</td>\n",
       "      <td>0</td>\n",
       "      <td>0</td>\n",
       "      <td>0</td>\n",
       "      <td>0</td>\n",
       "      <td>1</td>\n",
       "      <td>1</td>\n",
       "    </tr>\n",
       "    <tr>\n",
       "      <th>2</th>\n",
       "      <td>2</td>\n",
       "      <td>17</td>\n",
       "      <td>5000</td>\n",
       "      <td>62</td>\n",
       "      <td>30</td>\n",
       "      <td>NaN</td>\n",
       "      <td>158</td>\n",
       "      <td>2.0</td>\n",
       "      <td>2.0</td>\n",
       "      <td>0.0</td>\n",
       "      <td>...</td>\n",
       "      <td>0</td>\n",
       "      <td>0</td>\n",
       "      <td>0</td>\n",
       "      <td>0</td>\n",
       "      <td>0</td>\n",
       "      <td>0</td>\n",
       "      <td>0</td>\n",
       "      <td>0</td>\n",
       "      <td>0</td>\n",
       "      <td>0</td>\n",
       "    </tr>\n",
       "    <tr>\n",
       "      <th>3</th>\n",
       "      <td>0</td>\n",
       "      <td>4</td>\n",
       "      <td>5000</td>\n",
       "      <td>5</td>\n",
       "      <td>60</td>\n",
       "      <td>1285.0</td>\n",
       "      <td>2</td>\n",
       "      <td>1.0</td>\n",
       "      <td>2.0</td>\n",
       "      <td>0.0</td>\n",
       "      <td>...</td>\n",
       "      <td>0</td>\n",
       "      <td>0</td>\n",
       "      <td>0</td>\n",
       "      <td>0</td>\n",
       "      <td>0</td>\n",
       "      <td>1</td>\n",
       "      <td>0</td>\n",
       "      <td>0</td>\n",
       "      <td>1</td>\n",
       "      <td>1</td>\n",
       "    </tr>\n",
       "    <tr>\n",
       "      <th>4</th>\n",
       "      <td>0</td>\n",
       "      <td>12</td>\n",
       "      <td>12000</td>\n",
       "      <td>16</td>\n",
       "      <td>30</td>\n",
       "      <td>969.0</td>\n",
       "      <td>411</td>\n",
       "      <td>1.0</td>\n",
       "      <td>0.0</td>\n",
       "      <td>0.0</td>\n",
       "      <td>...</td>\n",
       "      <td>0</td>\n",
       "      <td>0</td>\n",
       "      <td>0</td>\n",
       "      <td>0</td>\n",
       "      <td>0</td>\n",
       "      <td>1</td>\n",
       "      <td>0</td>\n",
       "      <td>0</td>\n",
       "      <td>1</td>\n",
       "      <td>1</td>\n",
       "    </tr>\n",
       "  </tbody>\n",
       "</table>\n",
       "<p>5 rows × 36 columns</p>\n",
       "</div>"
      ],
      "text/plain": [
       "   Comments  Rewards   Goal Backers Duration in Days  Facebook Friends  \\\n",
       "0         0        9  20000       2               30             272.0   \n",
       "1         0        8   3000       5               33             573.0   \n",
       "2         2       17   5000      62               30               NaN   \n",
       "3         0        4   5000       5               60            1285.0   \n",
       "4         0       12  12000      16               30             969.0   \n",
       "\n",
       "  Facebook Shares  Creator - # Projects Created  Creator - # Projects Backed  \\\n",
       "0              70                           1.0                          0.0   \n",
       "1              57                           1.0                          4.0   \n",
       "2             158                           2.0                          2.0   \n",
       "3               2                           1.0                          2.0   \n",
       "4             411                           1.0                          0.0   \n",
       "\n",
       "   # Videos  ...  Top Category_Food  Top Category_Games  \\\n",
       "0       0.0  ...                  0                   0   \n",
       "1       0.0  ...                  0                   0   \n",
       "2       0.0  ...                  0                   0   \n",
       "3       0.0  ...                  0                   0   \n",
       "4       0.0  ...                  0                   0   \n",
       "\n",
       "   Top Category_Journalism  Top Category_Music  Top Category_Photography  \\\n",
       "0                        0                   0                         0   \n",
       "1                        0                   0                         0   \n",
       "2                        0                   0                         0   \n",
       "3                        0                   0                         0   \n",
       "4                        0                   0                         0   \n",
       "\n",
       "   Top Category_Publishing  Top Category_Technology  Top Category_Theater  \\\n",
       "0                        0                        0                     0   \n",
       "1                        0                        0                     0   \n",
       "2                        0                        0                     0   \n",
       "3                        1                        0                     0   \n",
       "4                        1                        0                     0   \n",
       "\n",
       "   Facebook Connected_Yes  Has Video_Yes  \n",
       "0                       1              1  \n",
       "1                       1              1  \n",
       "2                       0              0  \n",
       "3                       1              1  \n",
       "4                       1              1  \n",
       "\n",
       "[5 rows x 36 columns]"
      ]
     },
     "execution_count": 12,
     "metadata": {},
     "output_type": "execute_result"
    }
   ],
   "source": [
    "df=pd.get_dummies(df,columns=['State', 'Currency','Top Category','Facebook Connected','Has Video'],\n",
    "                 drop_first=True)\n",
    "df.head()"
   ]
  },
  {
   "cell_type": "code",
   "execution_count": 13,
   "id": "e8ffb19f",
   "metadata": {},
   "outputs": [
    {
     "data": {
      "text/plain": [
       "Comments                             0\n",
       "Rewards                              0\n",
       "Goal                                 0\n",
       "Backers                              0\n",
       "Duration in Days                     0\n",
       "Facebook Friends                  5849\n",
       "Facebook Shares                      0\n",
       "Creator - # Projects Created         1\n",
       "Creator - # Projects Backed       4242\n",
       "# Videos                           101\n",
       "# Images                             0\n",
       "# Words (Description)                0\n",
       "# Words (Risks and Challenges)     101\n",
       "# FAQs                               1\n",
       "State_successful                     0\n",
       "Currency_CAD                         0\n",
       "Currency_EUR                         0\n",
       "Currency_GBP                         0\n",
       "Currency_NZD                         0\n",
       "Currency_USD                         0\n",
       "Top Category_Comics                  0\n",
       "Top Category_Crafts                  0\n",
       "Top Category_Dance                   0\n",
       "Top Category_Design                  0\n",
       "Top Category_Fashion                 0\n",
       "Top Category_Film & Video            0\n",
       "Top Category_Food                    0\n",
       "Top Category_Games                   0\n",
       "Top Category_Journalism              0\n",
       "Top Category_Music                   0\n",
       "Top Category_Photography             0\n",
       "Top Category_Publishing              0\n",
       "Top Category_Technology              0\n",
       "Top Category_Theater                 0\n",
       "Facebook Connected_Yes               0\n",
       "Has Video_Yes                        0\n",
       "dtype: int64"
      ]
     },
     "execution_count": 13,
     "metadata": {},
     "output_type": "execute_result"
    }
   ],
   "source": [
    "df.isnull().sum()"
   ]
  },
  {
   "cell_type": "markdown",
   "id": "4fb71e83",
   "metadata": {},
   "source": [
    "<h2>연관성 파악</h2>\n",
    "<h4>0에 가까울수록 높음, 중간 값으로 채운다.</h4>"
   ]
  },
  {
   "cell_type": "code",
   "execution_count": 17,
   "id": "12adf1f3",
   "metadata": {},
   "outputs": [
    {
     "data": {
      "text/plain": [
       "0.15951807774677765"
      ]
     },
     "execution_count": 17,
     "metadata": {},
     "output_type": "execute_result"
    }
   ],
   "source": [
    "df['State_successful'].corr(df['Facebook Friends'])"
   ]
  },
  {
   "cell_type": "code",
   "execution_count": 19,
   "id": "1ef7afe9",
   "metadata": {},
   "outputs": [
    {
     "data": {
      "text/plain": [
       "0.1062217510613561"
      ]
     },
     "execution_count": 19,
     "metadata": {},
     "output_type": "execute_result"
    }
   ],
   "source": [
    "df['State_successful'].corr(df['Creator - # Projects Backed'])"
   ]
  },
  {
   "cell_type": "code",
   "execution_count": 20,
   "id": "f79e8ae2",
   "metadata": {},
   "outputs": [
    {
     "data": {
      "text/plain": [
       "0.057044213068048404"
      ]
     },
     "execution_count": 20,
     "metadata": {},
     "output_type": "execute_result"
    }
   ],
   "source": [
    "df['State_successful'].corr(df['# Videos'])"
   ]
  },
  {
   "cell_type": "code",
   "execution_count": 21,
   "id": "4534e530",
   "metadata": {},
   "outputs": [
    {
     "data": {
      "text/plain": [
       "0.1192366008621642"
      ]
     },
     "execution_count": 21,
     "metadata": {},
     "output_type": "execute_result"
    }
   ],
   "source": [
    "df['State_successful'].corr(df['# FAQs'])"
   ]
  },
  {
   "cell_type": "code",
   "execution_count": 22,
   "id": "99d6c51e",
   "metadata": {},
   "outputs": [
    {
     "data": {
      "text/plain": [
       "0.057044213068048404"
      ]
     },
     "execution_count": 22,
     "metadata": {},
     "output_type": "execute_result"
    }
   ],
   "source": [
    "df['State_successful'].corr(df['# Videos'])"
   ]
  },
  {
   "cell_type": "code",
   "execution_count": 23,
   "id": "ac0c5c45",
   "metadata": {},
   "outputs": [
    {
     "data": {
      "text/plain": [
       "0.07323209977485304"
      ]
     },
     "execution_count": 23,
     "metadata": {},
     "output_type": "execute_result"
    }
   ],
   "source": [
    "df['State_successful'].corr(df['Creator - # Projects Created'])\n"
   ]
  },
  {
   "cell_type": "code",
   "execution_count": 24,
   "id": "beffa190",
   "metadata": {},
   "outputs": [
    {
     "data": {
      "text/html": [
       "<div>\n",
       "<style scoped>\n",
       "    .dataframe tbody tr th:only-of-type {\n",
       "        vertical-align: middle;\n",
       "    }\n",
       "\n",
       "    .dataframe tbody tr th {\n",
       "        vertical-align: top;\n",
       "    }\n",
       "\n",
       "    .dataframe thead th {\n",
       "        text-align: right;\n",
       "    }\n",
       "</style>\n",
       "<table border=\"1\" class=\"dataframe\">\n",
       "  <thead>\n",
       "    <tr style=\"text-align: right;\">\n",
       "      <th></th>\n",
       "      <th>Comments</th>\n",
       "      <th>Rewards</th>\n",
       "      <th>Goal</th>\n",
       "      <th>Facebook Friends</th>\n",
       "      <th>Creator - # Projects Created</th>\n",
       "      <th>Creator - # Projects Backed</th>\n",
       "      <th># Videos</th>\n",
       "      <th># Images</th>\n",
       "      <th># Words (Description)</th>\n",
       "      <th># Words (Risks and Challenges)</th>\n",
       "      <th>...</th>\n",
       "      <th>Top Category_Food</th>\n",
       "      <th>Top Category_Games</th>\n",
       "      <th>Top Category_Journalism</th>\n",
       "      <th>Top Category_Music</th>\n",
       "      <th>Top Category_Photography</th>\n",
       "      <th>Top Category_Publishing</th>\n",
       "      <th>Top Category_Technology</th>\n",
       "      <th>Top Category_Theater</th>\n",
       "      <th>Facebook Connected_Yes</th>\n",
       "      <th>Has Video_Yes</th>\n",
       "    </tr>\n",
       "  </thead>\n",
       "  <tbody>\n",
       "    <tr>\n",
       "      <th>count</th>\n",
       "      <td>18140.000000</td>\n",
       "      <td>18140.000000</td>\n",
       "      <td>1.814000e+04</td>\n",
       "      <td>12291.000000</td>\n",
       "      <td>18139.000000</td>\n",
       "      <td>13898.000000</td>\n",
       "      <td>18039.000000</td>\n",
       "      <td>18140.000000</td>\n",
       "      <td>18140.000000</td>\n",
       "      <td>18039.000000</td>\n",
       "      <td>...</td>\n",
       "      <td>18140.000000</td>\n",
       "      <td>18140.000000</td>\n",
       "      <td>18140.000000</td>\n",
       "      <td>18140.000000</td>\n",
       "      <td>18140.000000</td>\n",
       "      <td>18140.000000</td>\n",
       "      <td>18140.000000</td>\n",
       "      <td>18140.000000</td>\n",
       "      <td>18140.000000</td>\n",
       "      <td>18140.000000</td>\n",
       "    </tr>\n",
       "    <tr>\n",
       "      <th>mean</th>\n",
       "      <td>34.247299</td>\n",
       "      <td>10.316538</td>\n",
       "      <td>2.653063e+04</td>\n",
       "      <td>694.221381</td>\n",
       "      <td>1.520150</td>\n",
       "      <td>5.149806</td>\n",
       "      <td>0.226953</td>\n",
       "      <td>6.925193</td>\n",
       "      <td>667.994267</td>\n",
       "      <td>130.329841</td>\n",
       "      <td>...</td>\n",
       "      <td>0.061136</td>\n",
       "      <td>0.089471</td>\n",
       "      <td>0.004024</td>\n",
       "      <td>0.150606</td>\n",
       "      <td>0.029658</td>\n",
       "      <td>0.113065</td>\n",
       "      <td>0.054355</td>\n",
       "      <td>0.035667</td>\n",
       "      <td>0.677508</td>\n",
       "      <td>0.829658</td>\n",
       "    </tr>\n",
       "    <tr>\n",
       "      <th>std</th>\n",
       "      <td>539.190862</td>\n",
       "      <td>37.514416</td>\n",
       "      <td>7.584292e+05</td>\n",
       "      <td>783.771642</td>\n",
       "      <td>2.540676</td>\n",
       "      <td>20.352008</td>\n",
       "      <td>0.882712</td>\n",
       "      <td>10.933761</td>\n",
       "      <td>582.135616</td>\n",
       "      <td>96.998366</td>\n",
       "      <td>...</td>\n",
       "      <td>0.239586</td>\n",
       "      <td>0.285430</td>\n",
       "      <td>0.063311</td>\n",
       "      <td>0.357675</td>\n",
       "      <td>0.169647</td>\n",
       "      <td>0.316681</td>\n",
       "      <td>0.226723</td>\n",
       "      <td>0.185464</td>\n",
       "      <td>0.467443</td>\n",
       "      <td>0.375943</td>\n",
       "    </tr>\n",
       "    <tr>\n",
       "      <th>min</th>\n",
       "      <td>0.000000</td>\n",
       "      <td>2.000000</td>\n",
       "      <td>1.000000e+02</td>\n",
       "      <td>0.000000</td>\n",
       "      <td>1.000000</td>\n",
       "      <td>0.000000</td>\n",
       "      <td>0.000000</td>\n",
       "      <td>0.000000</td>\n",
       "      <td>3.000000</td>\n",
       "      <td>1.000000</td>\n",
       "      <td>...</td>\n",
       "      <td>0.000000</td>\n",
       "      <td>0.000000</td>\n",
       "      <td>0.000000</td>\n",
       "      <td>0.000000</td>\n",
       "      <td>0.000000</td>\n",
       "      <td>0.000000</td>\n",
       "      <td>0.000000</td>\n",
       "      <td>0.000000</td>\n",
       "      <td>0.000000</td>\n",
       "      <td>0.000000</td>\n",
       "    </tr>\n",
       "    <tr>\n",
       "      <th>25%</th>\n",
       "      <td>0.000000</td>\n",
       "      <td>6.000000</td>\n",
       "      <td>2.000000e+03</td>\n",
       "      <td>216.500000</td>\n",
       "      <td>1.000000</td>\n",
       "      <td>0.000000</td>\n",
       "      <td>0.000000</td>\n",
       "      <td>0.000000</td>\n",
       "      <td>276.000000</td>\n",
       "      <td>69.000000</td>\n",
       "      <td>...</td>\n",
       "      <td>0.000000</td>\n",
       "      <td>0.000000</td>\n",
       "      <td>0.000000</td>\n",
       "      <td>0.000000</td>\n",
       "      <td>0.000000</td>\n",
       "      <td>0.000000</td>\n",
       "      <td>0.000000</td>\n",
       "      <td>0.000000</td>\n",
       "      <td>0.000000</td>\n",
       "      <td>1.000000</td>\n",
       "    </tr>\n",
       "    <tr>\n",
       "      <th>50%</th>\n",
       "      <td>0.000000</td>\n",
       "      <td>9.000000</td>\n",
       "      <td>5.000000e+03</td>\n",
       "      <td>453.000000</td>\n",
       "      <td>1.000000</td>\n",
       "      <td>1.000000</td>\n",
       "      <td>0.000000</td>\n",
       "      <td>3.000000</td>\n",
       "      <td>490.000000</td>\n",
       "      <td>105.000000</td>\n",
       "      <td>...</td>\n",
       "      <td>0.000000</td>\n",
       "      <td>0.000000</td>\n",
       "      <td>0.000000</td>\n",
       "      <td>0.000000</td>\n",
       "      <td>0.000000</td>\n",
       "      <td>0.000000</td>\n",
       "      <td>0.000000</td>\n",
       "      <td>0.000000</td>\n",
       "      <td>1.000000</td>\n",
       "      <td>1.000000</td>\n",
       "    </tr>\n",
       "    <tr>\n",
       "      <th>75%</th>\n",
       "      <td>3.000000</td>\n",
       "      <td>12.000000</td>\n",
       "      <td>1.500000e+04</td>\n",
       "      <td>860.000000</td>\n",
       "      <td>1.000000</td>\n",
       "      <td>4.000000</td>\n",
       "      <td>0.000000</td>\n",
       "      <td>10.000000</td>\n",
       "      <td>871.250000</td>\n",
       "      <td>163.000000</td>\n",
       "      <td>...</td>\n",
       "      <td>0.000000</td>\n",
       "      <td>0.000000</td>\n",
       "      <td>0.000000</td>\n",
       "      <td>0.000000</td>\n",
       "      <td>0.000000</td>\n",
       "      <td>0.000000</td>\n",
       "      <td>0.000000</td>\n",
       "      <td>0.000000</td>\n",
       "      <td>1.000000</td>\n",
       "      <td>1.000000</td>\n",
       "    </tr>\n",
       "    <tr>\n",
       "      <th>max</th>\n",
       "      <td>30341.000000</td>\n",
       "      <td>5000.000000</td>\n",
       "      <td>1.000000e+08</td>\n",
       "      <td>4885.000000</td>\n",
       "      <td>111.000000</td>\n",
       "      <td>1205.000000</td>\n",
       "      <td>24.000000</td>\n",
       "      <td>511.000000</td>\n",
       "      <td>5152.000000</td>\n",
       "      <td>1888.000000</td>\n",
       "      <td>...</td>\n",
       "      <td>1.000000</td>\n",
       "      <td>1.000000</td>\n",
       "      <td>1.000000</td>\n",
       "      <td>1.000000</td>\n",
       "      <td>1.000000</td>\n",
       "      <td>1.000000</td>\n",
       "      <td>1.000000</td>\n",
       "      <td>1.000000</td>\n",
       "      <td>1.000000</td>\n",
       "      <td>1.000000</td>\n",
       "    </tr>\n",
       "  </tbody>\n",
       "</table>\n",
       "<p>8 rows × 33 columns</p>\n",
       "</div>"
      ],
      "text/plain": [
       "           Comments       Rewards          Goal  Facebook Friends  \\\n",
       "count  18140.000000  18140.000000  1.814000e+04      12291.000000   \n",
       "mean      34.247299     10.316538  2.653063e+04        694.221381   \n",
       "std      539.190862     37.514416  7.584292e+05        783.771642   \n",
       "min        0.000000      2.000000  1.000000e+02          0.000000   \n",
       "25%        0.000000      6.000000  2.000000e+03        216.500000   \n",
       "50%        0.000000      9.000000  5.000000e+03        453.000000   \n",
       "75%        3.000000     12.000000  1.500000e+04        860.000000   \n",
       "max    30341.000000   5000.000000  1.000000e+08       4885.000000   \n",
       "\n",
       "       Creator - # Projects Created  Creator - # Projects Backed  \\\n",
       "count                  18139.000000                 13898.000000   \n",
       "mean                       1.520150                     5.149806   \n",
       "std                        2.540676                    20.352008   \n",
       "min                        1.000000                     0.000000   \n",
       "25%                        1.000000                     0.000000   \n",
       "50%                        1.000000                     1.000000   \n",
       "75%                        1.000000                     4.000000   \n",
       "max                      111.000000                  1205.000000   \n",
       "\n",
       "           # Videos      # Images  # Words (Description)  \\\n",
       "count  18039.000000  18140.000000           18140.000000   \n",
       "mean       0.226953      6.925193             667.994267   \n",
       "std        0.882712     10.933761             582.135616   \n",
       "min        0.000000      0.000000               3.000000   \n",
       "25%        0.000000      0.000000             276.000000   \n",
       "50%        0.000000      3.000000             490.000000   \n",
       "75%        0.000000     10.000000             871.250000   \n",
       "max       24.000000    511.000000            5152.000000   \n",
       "\n",
       "       # Words (Risks and Challenges)  ...  Top Category_Food  \\\n",
       "count                    18039.000000  ...       18140.000000   \n",
       "mean                       130.329841  ...           0.061136   \n",
       "std                         96.998366  ...           0.239586   \n",
       "min                          1.000000  ...           0.000000   \n",
       "25%                         69.000000  ...           0.000000   \n",
       "50%                        105.000000  ...           0.000000   \n",
       "75%                        163.000000  ...           0.000000   \n",
       "max                       1888.000000  ...           1.000000   \n",
       "\n",
       "       Top Category_Games  Top Category_Journalism  Top Category_Music  \\\n",
       "count        18140.000000             18140.000000        18140.000000   \n",
       "mean             0.089471                 0.004024            0.150606   \n",
       "std              0.285430                 0.063311            0.357675   \n",
       "min              0.000000                 0.000000            0.000000   \n",
       "25%              0.000000                 0.000000            0.000000   \n",
       "50%              0.000000                 0.000000            0.000000   \n",
       "75%              0.000000                 0.000000            0.000000   \n",
       "max              1.000000                 1.000000            1.000000   \n",
       "\n",
       "       Top Category_Photography  Top Category_Publishing  \\\n",
       "count              18140.000000             18140.000000   \n",
       "mean                   0.029658                 0.113065   \n",
       "std                    0.169647                 0.316681   \n",
       "min                    0.000000                 0.000000   \n",
       "25%                    0.000000                 0.000000   \n",
       "50%                    0.000000                 0.000000   \n",
       "75%                    0.000000                 0.000000   \n",
       "max                    1.000000                 1.000000   \n",
       "\n",
       "       Top Category_Technology  Top Category_Theater  Facebook Connected_Yes  \\\n",
       "count             18140.000000          18140.000000            18140.000000   \n",
       "mean                  0.054355              0.035667                0.677508   \n",
       "std                   0.226723              0.185464                0.467443   \n",
       "min                   0.000000              0.000000                0.000000   \n",
       "25%                   0.000000              0.000000                0.000000   \n",
       "50%                   0.000000              0.000000                1.000000   \n",
       "75%                   0.000000              0.000000                1.000000   \n",
       "max                   1.000000              1.000000                1.000000   \n",
       "\n",
       "       Has Video_Yes  \n",
       "count   18140.000000  \n",
       "mean        0.829658  \n",
       "std         0.375943  \n",
       "min         0.000000  \n",
       "25%         1.000000  \n",
       "50%         1.000000  \n",
       "75%         1.000000  \n",
       "max         1.000000  \n",
       "\n",
       "[8 rows x 33 columns]"
      ]
     },
     "execution_count": 24,
     "metadata": {},
     "output_type": "execute_result"
    }
   ],
   "source": [
    "df.describe()"
   ]
  },
  {
   "cell_type": "markdown",
   "id": "523d0d95",
   "metadata": {},
   "source": [
    "<h3>중간 값</h3>"
   ]
  },
  {
   "cell_type": "code",
   "execution_count": 25,
   "id": "e4853ed7",
   "metadata": {},
   "outputs": [
    {
     "name": "stderr",
     "output_type": "stream",
     "text": [
      "C:\\Users\\WIN10\\anaconda3\\lib\\site-packages\\seaborn\\distributions.py:2557: FutureWarning: `distplot` is a deprecated function and will be removed in a future version. Please adapt your code to use either `displot` (a figure-level function with similar flexibility) or `kdeplot` (an axes-level function for kernel density plots).\n",
      "  warnings.warn(msg, FutureWarning)\n"
     ]
    },
    {
     "data": {
      "text/plain": [
       "<AxesSubplot:xlabel='Facebook Friends', ylabel='Density'>"
      ]
     },
     "execution_count": 25,
     "metadata": {},
     "output_type": "execute_result"
    },
    {
     "data": {
      "image/png": "[encoded data removed]",
      "text/plain": [
       "<Figure size 864x432 with 1 Axes>"
      ]
     },
     "metadata": {
      "needs_background": "light"
     },
     "output_type": "display_data"
    }
   ],
   "source": [
    "plt.figure(figsize=(12,6))    #12: 가로, 6: 세로 \n",
    "sns.distplot(df['Facebook Friends'],kde=True, hist=0)"
   ]
  },
  {
   "cell_type": "markdown",
   "id": "2105bfea",
   "metadata": {},
   "source": [
    "<h4> 한쪽으로 치우침 : 결과 값에 악영향을 줄 수 있다.</h4>"
   ]
  },
  {
   "cell_type": "code",
   "execution_count": 31,
   "id": "5e1b60b8",
   "metadata": {},
   "outputs": [
    {
     "name": "stderr",
     "output_type": "stream",
     "text": [
      "C:\\Users\\WIN10\\anaconda3\\lib\\site-packages\\seaborn\\distributions.py:2557: FutureWarning: `distplot` is a deprecated function and will be removed in a future version. Please adapt your code to use either `displot` (a figure-level function with similar flexibility) or `kdeplot` (an axes-level function for kernel density plots).\n",
      "  warnings.warn(msg, FutureWarning)\n"
     ]
    },
    {
     "data": {
      "text/plain": [
       "<AxesSubplot:xlabel='Creator - # Projects Backed', ylabel='Density'>"
      ]
     },
     "execution_count": 31,
     "metadata": {},
     "output_type": "execute_result"
    },
    {
     "data": {
      "image/png": "[encoded data removed]",
      "text/plain": [
       "<Figure size 864x432 with 1 Axes>"
      ]
     },
     "metadata": {
      "needs_background": "light"
     },
     "output_type": "display_data"
    }
   ],
   "source": [
    "plt.figure(figsize=(12,6))    #12: 가로, 6: 세로 \n",
    "sns.distplot(df['Creator - # Projects Backed'],kde=True, hist=0)"
   ]
  },
  {
   "cell_type": "markdown",
   "id": "7d7c8240",
   "metadata": {},
   "source": [
    "<h4>넓지 않고 한쪽에 집중되어있으므로 중간값으로 사용해도 괜찮다.</h4>"
   ]
  },
  {
   "cell_type": "code",
   "execution_count": 32,
   "id": "254e2adc",
   "metadata": {},
   "outputs": [
    {
     "data": {
      "text/plain": [
       "(12215, 36)"
      ]
     },
     "execution_count": 32,
     "metadata": {},
     "output_type": "execute_result"
    }
   ],
   "source": [
    "df['Creator - # Projects Backed'].fillna(df['Creator - # Projects Backed'].mean(),inplace=True)\n",
    "df.dropna(axis=0, how='any',thresh=None, subset =  None, inplace =True)\n",
    "df.shape"
   ]
  },
  {
   "cell_type": "code",
   "execution_count": 46,
   "id": "38bfbced",
   "metadata": {
    "scrolled": true
   },
   "outputs": [
    {
     "name": "stdout",
     "output_type": "stream",
     "text": [
      "[[1614  215]\n",
      " [ 220 1616]]\n"
     ]
    }
   ],
   "source": [
    "X=df.drop('State_successful',axis=1) #나머지 35개\n",
    "y=df['State_successful']\n",
    "X_train, X_test, y_train, y_test = train_test_split(X, y, test_size=0.3, random_state=10,shuffle=True)\n",
    "\n",
    "model = LogisticRegression(solver='lbfgs', max_iter=10000)\n",
    "model.fit(X_train, y_train)  #훈련시킴\n",
    "model_predict = model.predict(X_test)  #결과값을 예측\n",
    "print(confusion_matrix(y_test, model_predict)) #결과값 예측과 실제값 비교"
   ]
  },
  {
   "cell_type": "markdown",
   "id": "58499ee7",
   "metadata": {},
   "source": [
    "<h2>정확도</h2>"
   ]
  },
  {
   "cell_type": "markdown",
   "id": "0334b9e7",
   "metadata": {},
   "source": [
    "<h4> 169 : false positive (successful하지 않은데 successful하다고 잘못판단)</h4>\n",
    "\n",
    "<h4> 230 : false negative (successful한 것을 successful하지 않다고 잘못판단)</h4>"
   ]
  },
  {
   "cell_type": "code",
   "execution_count": 47,
   "id": "36fdb798",
   "metadata": {},
   "outputs": [
    {
     "name": "stdout",
     "output_type": "stream",
     "text": [
      "              precision    recall  f1-score   support\n",
      "\n",
      "           0       0.88      0.88      0.88      1829\n",
      "           1       0.88      0.88      0.88      1836\n",
      "\n",
      "    accuracy                           0.88      3665\n",
      "   macro avg       0.88      0.88      0.88      3665\n",
      "weighted avg       0.88      0.88      0.88      3665\n",
      "\n"
     ]
    }
   ],
   "source": [
    "print(classification_report(y_test, model_predict))"
   ]
  },
  {
   "cell_type": "markdown",
   "id": "1e37b094",
   "metadata": {},
   "source": [
    "<h4> 0 : 실패   /   1 : 성공 , 정확도 : 88% </h4>"
   ]
  },
  {
   "cell_type": "markdown",
   "id": "943f40bd",
   "metadata": {},
   "source": [
    "<h2>새로운 입력으로 TEST</h2>"
   ]
  },
  {
   "cell_type": "code",
   "execution_count": 37,
   "id": "d888f055",
   "metadata": {},
   "outputs": [
    {
     "name": "stdout",
     "output_type": "stream",
     "text": [
      "new_project=[\n",
      "\t0, #Comments\n",
      "\t0, #Rewards\n",
      "\t0, #Goal\n",
      "\t0, #Backers\n",
      "\t0, #Duration in Days\n",
      "\t0, #Facebook Friends\n",
      "\t0, #Facebook Shares\n",
      "\t0, #Creator - # Projects Created\n",
      "\t0, #Creator - # Projects Backed\n",
      "\t0, ## Videos\n",
      "\t0, ## Images\n",
      "\t0, ## Words (Description)\n",
      "\t0, ## Words (Risks and Challenges)\n",
      "\t0, ## FAQs\n",
      "\t0, #State_successful\n",
      "\t0, #Currency_CAD\n",
      "\t0, #Currency_EUR\n",
      "\t0, #Currency_GBP\n",
      "\t0, #Currency_NZD\n",
      "\t0, #Currency_USD\n",
      "\t0, #Top Category_Comics\n",
      "\t0, #Top Category_Crafts\n",
      "\t0, #Top Category_Dance\n",
      "\t0, #Top Category_Design\n",
      "\t0, #Top Category_Fashion\n",
      "\t0, #Top Category_Film & Video\n",
      "\t0, #Top Category_Food\n",
      "\t0, #Top Category_Games\n",
      "\t0, #Top Category_Journalism\n",
      "\t0, #Top Category_Music\n",
      "\t0, #Top Category_Photography\n",
      "\t0, #Top Category_Publishing\n",
      "\t0, #Top Category_Technology\n",
      "\t0, #Top Category_Theater\n",
      "\t0, #Facebook Connected_Yes\n",
      "\t0, #Has Video_Yes\n",
      "]\n"
     ]
    }
   ],
   "source": [
    "cols = df.columns.tolist()\n",
    "print(\"new_project=[\")\n",
    "for item in cols:\n",
    "    print(\"\\t0, \"+\"#\"+item)\n",
    "print(\"]\")"
   ]
  },
  {
   "cell_type": "code",
   "execution_count": 48,
   "id": "1826b1b2",
   "metadata": {},
   "outputs": [
    {
     "data": {
      "text/plain": [
       "array([1], dtype=uint8)"
      ]
     },
     "execution_count": 48,
     "metadata": {},
     "output_type": "execute_result"
    }
   ],
   "source": [
    "new_project=[\n",
    "\t0, #Comments\n",
    "\t9, #Rewards\n",
    "\t2500, #Goal\n",
    "\t157, #Backers\n",
    "\t31, #Duration in Days\n",
    "\t319, #Facebook Friends\n",
    "\t110, #Facebook Shares\n",
    "\t1, #Creator - # Projects Created\n",
    "\t0, #Creator - # Projects Backed\n",
    "\t0, ## Videos\n",
    "\t12, ## Images\n",
    "\t872, ## Words (Description)\n",
    "\t65, ## Words (Risks and Challenges)\n",
    "\t0, ## FAQs\n",
    "\t1, #Currency_CAD\n",
    "\t0, #Currency_EUR \n",
    "\t0, #Currency_GBP\n",
    "\t0, #Currency_NZD\n",
    "\t0, #Currency_USD\n",
    "\t0, #Top Category_Comics\n",
    "\t0, #Top Category_Crafts\n",
    "\t0, #Top Category_Dance\n",
    "\t0, #Top Category_Design\n",
    "\t0, #Top Category_Fashion\n",
    "\t1, #Top Category_Film & Video\n",
    "\t0, #Top Category_Food\n",
    "\t0, #Top Category_Games\n",
    "\t0, #Top Category_Journalism\n",
    "\t0, #Top Category_Music\n",
    "\t0, #Top Category_Photography\n",
    "\t0, #Top Category_Publishing\n",
    "\t0, #Top Category_Technology\n",
    "\t0, #Top Category_Theater\n",
    "\t0, #Facebook Connected_Yes\n",
    "\t1, #Has Video_Yes\n",
    "]\n",
    "\n",
    "new_pred=model.predict([new_project])\n",
    "new_pred"
   ]
  }
 ],
 "metadata": {
  "kernelspec": {
   "display_name": "Python 3",
   "language": "python",
   "name": "python3"
  },
  "language_info": {
   "codemirror_mode": {
    "name": "ipython",
    "version": 3
   },
   "file_extension": ".py",
   "mimetype": "text/x-python",
   "name": "python",
   "nbconvert_exporter": "python",
   "pygments_lexer": "ipython3",
   "version": "3.8.8"
  }
 },
 "nbformat": 4,
 "nbformat_minor": 5
}
