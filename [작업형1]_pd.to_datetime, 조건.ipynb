{
 "cells": [
  {
   "cell_type": "markdown",
   "id": "65b0d02d",
   "metadata": {
    "execution": {
     "iopub.execute_input": "2022-11-19T06:36:23.735825Z",
     "iopub.status.busy": "2022-11-19T06:36:23.735021Z",
     "iopub.status.idle": "2022-11-19T06:36:23.764772Z",
     "shell.execute_reply": "2022-11-19T06:36:23.763168Z",
     "shell.execute_reply.started": "2022-11-19T06:36:23.735722Z"
    },
    "papermill": {
     "duration": 0.007252,
     "end_time": "2024-05-03T18:14:03.651618",
     "exception": false,
     "start_time": "2024-05-03T18:14:03.644366",
     "status": "completed"
    },
    "tags": []
   },
   "source": [
    "### 풀이 영상: https://youtu.be/XAT0qvN5tnA"
   ]
  },
  {
   "cell_type": "markdown",
   "id": "6dd87141",
   "metadata": {
    "_cell_guid": "b1076dfc-b9ad-4769-8c92-a6c4dae69d19",
    "_uuid": "8f2839f25d086af736a60e9eeb907d3b93b6e0e5",
    "papermill": {
     "duration": 0.005286,
     "end_time": "2024-05-03T18:14:03.662726",
     "exception": false,
     "start_time": "2024-05-03T18:14:03.657440",
     "status": "completed"
    },
    "tags": []
   },
   "source": [
    "## 작업형1 문제\n",
    "### 1-1. age 컬럼의 3사분위수와 1사분위수의 차를 절대값으로 구하고, 소수점 버려서, 정수로 출력\n",
    "- data_path: ../input/bigdatacertificationkr/basic1.csv\n"
   ]
  },
  {
   "cell_type": "code",
   "execution_count": 1,
   "id": "bc1ceca6",
   "metadata": {
    "execution": {
     "iopub.execute_input": "2024-05-03T18:14:03.675951Z",
     "iopub.status.busy": "2024-05-03T18:14:03.675468Z",
     "iopub.status.idle": "2024-05-03T18:14:03.700805Z",
     "shell.execute_reply": "2024-05-03T18:14:03.699621Z"
    },
    "papermill": {
     "duration": 0.035415,
     "end_time": "2024-05-03T18:14:03.703892",
     "exception": false,
     "start_time": "2024-05-03T18:14:03.668477",
     "status": "completed"
    },
    "tags": []
   },
   "outputs": [],
   "source": [
    "import pandas as pd\n",
    "df = pd.read_csv(\"../input/bigdatacertificationkr/basic1.csv\")\n"
   ]
  },
  {
   "cell_type": "code",
   "execution_count": 2,
   "id": "654d2c36",
   "metadata": {
    "execution": {
     "iopub.execute_input": "2024-05-03T18:14:03.717771Z",
     "iopub.status.busy": "2024-05-03T18:14:03.717135Z",
     "iopub.status.idle": "2024-05-03T18:14:03.732621Z",
     "shell.execute_reply": "2024-05-03T18:14:03.731240Z"
    },
    "papermill": {
     "duration": 0.025713,
     "end_time": "2024-05-03T18:14:03.735467",
     "exception": false,
     "start_time": "2024-05-03T18:14:03.709754",
     "status": "completed"
    },
    "tags": []
   },
   "outputs": [
    {
     "name": "stdout",
     "output_type": "stream",
     "text": [
      "50\n"
     ]
    }
   ],
   "source": [
    "df.head(1)\n",
    "a1 = df['age'].quantile(.75)\n",
    "a2 = df['age'].quantile(.25)\n",
    "print(int(abs(a1-a2)))"
   ]
  },
  {
   "cell_type": "markdown",
   "id": "0b36e5e6",
   "metadata": {
    "papermill": {
     "duration": 0.005387,
     "end_time": "2024-05-03T18:14:03.746631",
     "exception": false,
     "start_time": "2024-05-03T18:14:03.741244",
     "status": "completed"
    },
    "tags": []
   },
   "source": [
    "### 1-2.(loves반응+wows반응)/(reactions반응) 비율이 0.4보다 크고 0.5보다 작으면서, type 컬럼이 'video'인 데이터의 갯수\n",
    "- data_path: ../input/big-data-analytics-certification-kr-2022/fb.csv"
   ]
  },
  {
   "cell_type": "code",
   "execution_count": 3,
   "id": "8928d0aa",
   "metadata": {
    "execution": {
     "iopub.execute_input": "2024-05-03T18:14:03.759805Z",
     "iopub.status.busy": "2024-05-03T18:14:03.759352Z",
     "iopub.status.idle": "2024-05-03T18:14:03.806086Z",
     "shell.execute_reply": "2024-05-03T18:14:03.804882Z"
    },
    "papermill": {
     "duration": 0.056418,
     "end_time": "2024-05-03T18:14:03.808784",
     "exception": false,
     "start_time": "2024-05-03T18:14:03.752366",
     "status": "completed"
    },
    "tags": []
   },
   "outputs": [
    {
     "data": {
      "text/html": [
       "<div>\n",
       "<style scoped>\n",
       "    .dataframe tbody tr th:only-of-type {\n",
       "        vertical-align: middle;\n",
       "    }\n",
       "\n",
       "    .dataframe tbody tr th {\n",
       "        vertical-align: top;\n",
       "    }\n",
       "\n",
       "    .dataframe thead th {\n",
       "        text-align: right;\n",
       "    }\n",
       "</style>\n",
       "<table border=\"1\" class=\"dataframe\">\n",
       "  <thead>\n",
       "    <tr style=\"text-align: right;\">\n",
       "      <th></th>\n",
       "      <th>id</th>\n",
       "      <th>type</th>\n",
       "      <th>reactions</th>\n",
       "      <th>comments</th>\n",
       "      <th>shares</th>\n",
       "      <th>likes</th>\n",
       "      <th>loves</th>\n",
       "      <th>wows</th>\n",
       "      <th>hahas</th>\n",
       "      <th>sads</th>\n",
       "      <th>angrys</th>\n",
       "    </tr>\n",
       "  </thead>\n",
       "  <tbody>\n",
       "    <tr>\n",
       "      <th>0</th>\n",
       "      <td>1</td>\n",
       "      <td>video</td>\n",
       "      <td>529</td>\n",
       "      <td>512</td>\n",
       "      <td>262</td>\n",
       "      <td>432</td>\n",
       "      <td>92</td>\n",
       "      <td>3</td>\n",
       "      <td>1</td>\n",
       "      <td>1</td>\n",
       "      <td>0</td>\n",
       "    </tr>\n",
       "  </tbody>\n",
       "</table>\n",
       "</div>"
      ],
      "text/plain": [
       "   id   type  reactions  comments  shares  likes  loves  wows  hahas  sads  \\\n",
       "0   1  video        529       512     262    432     92     3      1     1   \n",
       "\n",
       "   angrys  \n",
       "0       0  "
      ]
     },
     "execution_count": 3,
     "metadata": {},
     "output_type": "execute_result"
    }
   ],
   "source": [
    "import pandas as pd\n",
    "df = pd.read_csv(\"../input/big-data-analytics-certification-kr-2022/fb.csv\")\n",
    "df.head(1)"
   ]
  },
  {
   "cell_type": "code",
   "execution_count": 4,
   "id": "b83a4dca",
   "metadata": {
    "execution": {
     "iopub.execute_input": "2024-05-03T18:14:03.822742Z",
     "iopub.status.busy": "2024-05-03T18:14:03.822275Z",
     "iopub.status.idle": "2024-05-03T18:14:03.833459Z",
     "shell.execute_reply": "2024-05-03T18:14:03.832554Z"
    },
    "papermill": {
     "duration": 0.0212,
     "end_time": "2024-05-03T18:14:03.835909",
     "exception": false,
     "start_time": "2024-05-03T18:14:03.814709",
     "status": "completed"
    },
    "tags": []
   },
   "outputs": [
    {
     "name": "stdout",
     "output_type": "stream",
     "text": [
      "90\n"
     ]
    }
   ],
   "source": [
    "val =(df['loves']+ df['wows'])/(df['reactions'])\n",
    "val\n",
    "cond1 = (val>0.4) & (val<0.5)\n",
    "cond2 = df['type']==\"video\"\n",
    "print(len(df[cond1 & cond2]))"
   ]
  },
  {
   "cell_type": "markdown",
   "id": "9801d364",
   "metadata": {
    "papermill": {
     "duration": 0.005527,
     "end_time": "2024-05-03T18:14:03.847251",
     "exception": false,
     "start_time": "2024-05-03T18:14:03.841724",
     "status": "completed"
    },
    "tags": []
   },
   "source": [
    "### 1-3. date_added가 2018년 1월 이면서 country가 United Kingdom 단독 제작인 데이터의 갯수\n",
    "- data_path: ../input/big-data-analytics-certification-kr-2022/nf.csv"
   ]
  },
  {
   "cell_type": "code",
   "execution_count": 5,
   "id": "ffa6c872",
   "metadata": {
    "execution": {
     "iopub.execute_input": "2024-05-03T18:14:03.862530Z",
     "iopub.status.busy": "2024-05-03T18:14:03.862061Z",
     "iopub.status.idle": "2024-05-03T18:14:03.966522Z",
     "shell.execute_reply": "2024-05-03T18:14:03.965220Z"
    },
    "papermill": {
     "duration": 0.11489,
     "end_time": "2024-05-03T18:14:03.969587",
     "exception": false,
     "start_time": "2024-05-03T18:14:03.854697",
     "status": "completed"
    },
    "tags": []
   },
   "outputs": [
    {
     "data": {
      "text/html": [
       "<div>\n",
       "<style scoped>\n",
       "    .dataframe tbody tr th:only-of-type {\n",
       "        vertical-align: middle;\n",
       "    }\n",
       "\n",
       "    .dataframe tbody tr th {\n",
       "        vertical-align: top;\n",
       "    }\n",
       "\n",
       "    .dataframe thead th {\n",
       "        text-align: right;\n",
       "    }\n",
       "</style>\n",
       "<table border=\"1\" class=\"dataframe\">\n",
       "  <thead>\n",
       "    <tr style=\"text-align: right;\">\n",
       "      <th></th>\n",
       "      <th>show_id</th>\n",
       "      <th>type</th>\n",
       "      <th>title</th>\n",
       "      <th>director</th>\n",
       "      <th>cast</th>\n",
       "      <th>country</th>\n",
       "      <th>date_added</th>\n",
       "      <th>release_year</th>\n",
       "      <th>rating</th>\n",
       "      <th>duration</th>\n",
       "      <th>listed_in</th>\n",
       "    </tr>\n",
       "  </thead>\n",
       "  <tbody>\n",
       "    <tr>\n",
       "      <th>0</th>\n",
       "      <td>s1</td>\n",
       "      <td>Movie</td>\n",
       "      <td>Dick Johnson Is Dead</td>\n",
       "      <td>Kirsten Johnson</td>\n",
       "      <td>NaN</td>\n",
       "      <td>United States</td>\n",
       "      <td>September 25, 2021</td>\n",
       "      <td>2020</td>\n",
       "      <td>PG-13</td>\n",
       "      <td>90 min</td>\n",
       "      <td>Documentaries</td>\n",
       "    </tr>\n",
       "  </tbody>\n",
       "</table>\n",
       "</div>"
      ],
      "text/plain": [
       "  show_id   type                 title         director cast        country  \\\n",
       "0      s1  Movie  Dick Johnson Is Dead  Kirsten Johnson  NaN  United States   \n",
       "\n",
       "           date_added  release_year rating duration      listed_in  \n",
       "0  September 25, 2021          2020  PG-13   90 min  Documentaries  "
      ]
     },
     "execution_count": 5,
     "metadata": {},
     "output_type": "execute_result"
    }
   ],
   "source": [
    "import pandas as pd\n",
    "df = pd.read_csv(\"../input/big-data-analytics-certification-kr-2022/nf.csv\")\n",
    "df.head(1)"
   ]
  },
  {
   "cell_type": "code",
   "execution_count": 6,
   "id": "1c536c28",
   "metadata": {
    "execution": {
     "iopub.execute_input": "2024-05-03T18:14:03.984049Z",
     "iopub.status.busy": "2024-05-03T18:14:03.983602Z",
     "iopub.status.idle": "2024-05-03T18:14:04.213139Z",
     "shell.execute_reply": "2024-05-03T18:14:04.211871Z"
    },
    "papermill": {
     "duration": 0.239848,
     "end_time": "2024-05-03T18:14:04.215801",
     "exception": false,
     "start_time": "2024-05-03T18:14:03.975953",
     "status": "completed"
    },
    "tags": []
   },
   "outputs": [
    {
     "name": "stdout",
     "output_type": "stream",
     "text": [
      "<class 'pandas.core.frame.DataFrame'>\n",
      "RangeIndex: 8807 entries, 0 to 8806\n",
      "Data columns (total 11 columns):\n",
      " #   Column        Non-Null Count  Dtype         \n",
      "---  ------        --------------  -----         \n",
      " 0   show_id       8807 non-null   object        \n",
      " 1   type          8807 non-null   object        \n",
      " 2   title         8807 non-null   object        \n",
      " 3   director      6173 non-null   object        \n",
      " 4   cast          7982 non-null   object        \n",
      " 5   country       7976 non-null   object        \n",
      " 6   date_added    8797 non-null   datetime64[ns]\n",
      " 7   release_year  8807 non-null   int64         \n",
      " 8   rating        8803 non-null   object        \n",
      " 9   duration      8804 non-null   object        \n",
      " 10  listed_in     8807 non-null   object        \n",
      "dtypes: datetime64[ns](1), int64(1), object(9)\n",
      "memory usage: 757.0+ KB\n"
     ]
    }
   ],
   "source": [
    "df['date_added']=pd.to_datetime(df['date_added'])\n",
    "df.info()"
   ]
  },
  {
   "cell_type": "code",
   "execution_count": 7,
   "id": "5d9129ed",
   "metadata": {
    "execution": {
     "iopub.execute_input": "2024-05-03T18:14:04.229945Z",
     "iopub.status.busy": "2024-05-03T18:14:04.229518Z",
     "iopub.status.idle": "2024-05-03T18:14:04.244432Z",
     "shell.execute_reply": "2024-05-03T18:14:04.242966Z"
    },
    "papermill": {
     "duration": 0.025235,
     "end_time": "2024-05-03T18:14:04.247207",
     "exception": false,
     "start_time": "2024-05-03T18:14:04.221972",
     "status": "completed"
    },
    "tags": []
   },
   "outputs": [
    {
     "data": {
      "text/plain": [
       "6"
      ]
     },
     "execution_count": 7,
     "metadata": {},
     "output_type": "execute_result"
    }
   ],
   "source": [
    "cond1 =df['date_added'].dt.year ==2018\n",
    "cond2 =df['date_added'].dt.month ==1\n",
    "cond3 = df['country']=='United Kingdom'\n",
    "len(df[cond1&cond2&cond3])"
   ]
  },
  {
   "cell_type": "markdown",
   "id": "b460e135",
   "metadata": {
    "papermill": {
     "duration": 0.006034,
     "end_time": "2024-05-03T18:14:04.259775",
     "exception": false,
     "start_time": "2024-05-03T18:14:04.253741",
     "status": "completed"
    },
    "tags": []
   },
   "source": [
    "## 작업형1 풀이\n",
    "### 1-1. age 컬럼의 3사분위수와 1사분위수의 차를 절대값으로 구하고, 소수점 버려서, 정수로 출력\n",
    "- data_path: ../input/bigdatacertificationkr/basic1.csv\n"
   ]
  },
  {
   "cell_type": "code",
   "execution_count": 8,
   "id": "fddb8e40",
   "metadata": {
    "execution": {
     "iopub.execute_input": "2024-05-03T18:14:04.274245Z",
     "iopub.status.busy": "2024-05-03T18:14:04.273841Z",
     "iopub.status.idle": "2024-05-03T18:14:04.287537Z",
     "shell.execute_reply": "2024-05-03T18:14:04.286247Z"
    },
    "papermill": {
     "duration": 0.024103,
     "end_time": "2024-05-03T18:14:04.290185",
     "exception": false,
     "start_time": "2024-05-03T18:14:04.266082",
     "status": "completed"
    },
    "tags": []
   },
   "outputs": [
    {
     "name": "stdout",
     "output_type": "stream",
     "text": [
      "50\n"
     ]
    }
   ],
   "source": [
    "import pandas as pd\n",
    "df = pd.read_csv(\"../input/bigdatacertificationkr/basic1.csv\")\n",
    "# print(\"1사분위: \",df['age'].quantile(0.25))\n",
    "# print(\"3사분위: \",df['age'].quantile(0.75))\n",
    "\n",
    "result = abs(df['age'].quantile(0.25) - df['age'].quantile(0.75))\n",
    "# print(\"절대값 차이: \",result)\n",
    "\n",
    "print(int(result))"
   ]
  },
  {
   "cell_type": "markdown",
   "id": "f333aeae",
   "metadata": {
    "papermill": {
     "duration": 0.006235,
     "end_time": "2024-05-03T18:14:04.303186",
     "exception": false,
     "start_time": "2024-05-03T18:14:04.296951",
     "status": "completed"
    },
    "tags": []
   },
   "source": [
    "### 1-2.(loves반응+wows반응)/(reactions반응) 비율이 0.4보다 크고 0.5보다 작으면서, status_type=='video'인 데이터의 갯수\n",
    "- data_path: ../input/big-data-analytics-certification-kr-2022/fb.csv"
   ]
  },
  {
   "cell_type": "code",
   "execution_count": 9,
   "id": "e034e7a5",
   "metadata": {
    "execution": {
     "iopub.execute_input": "2024-05-03T18:14:04.317762Z",
     "iopub.status.busy": "2024-05-03T18:14:04.317320Z",
     "iopub.status.idle": "2024-05-03T18:14:04.338938Z",
     "shell.execute_reply": "2024-05-03T18:14:04.337748Z"
    },
    "papermill": {
     "duration": 0.031941,
     "end_time": "2024-05-03T18:14:04.341602",
     "exception": false,
     "start_time": "2024-05-03T18:14:04.309661",
     "status": "completed"
    },
    "tags": []
   },
   "outputs": [
    {
     "name": "stdout",
     "output_type": "stream",
     "text": [
      "90\n"
     ]
    }
   ],
   "source": [
    "import pandas as pd\n",
    "df = pd.read_csv(\"../input/big-data-analytics-certification-kr-2022/fb.csv\")\n",
    "cond1 = (df['loves'] + df['wows'])/ df['reactions'] > 0.4\n",
    "cond2 = (df['loves'] + df['wows'])/ df['reactions'] < 0.5\n",
    "cond3 = df['type'] == 'video'\n",
    "\n",
    "print(len(df[cond1 & cond2 & cond3]))"
   ]
  },
  {
   "cell_type": "markdown",
   "id": "13d2ab71",
   "metadata": {
    "papermill": {
     "duration": 0.006282,
     "end_time": "2024-05-03T18:14:04.354405",
     "exception": false,
     "start_time": "2024-05-03T18:14:04.348123",
     "status": "completed"
    },
    "tags": []
   },
   "source": [
    "### 1-3. date_added가 2018년 1월 이면서 country가 United Kingdom 단독 제작인 데이터의 갯수¶\n",
    "- data_path: ../input/big-data-analytics-certification-kr-2022/nf.csv"
   ]
  },
  {
   "cell_type": "code",
   "execution_count": 10,
   "id": "fcb413fa",
   "metadata": {
    "execution": {
     "iopub.execute_input": "2024-05-03T18:14:04.369869Z",
     "iopub.status.busy": "2024-05-03T18:14:04.369469Z",
     "iopub.status.idle": "2024-05-03T18:14:04.637102Z",
     "shell.execute_reply": "2024-05-03T18:14:04.635897Z"
    },
    "papermill": {
     "duration": 0.278612,
     "end_time": "2024-05-03T18:14:04.639639",
     "exception": false,
     "start_time": "2024-05-03T18:14:04.361027",
     "status": "completed"
    },
    "tags": []
   },
   "outputs": [
    {
     "name": "stdout",
     "output_type": "stream",
     "text": [
      "6\n"
     ]
    }
   ],
   "source": [
    "# 풀이1 datatime 활용1\n",
    "import pandas as pd\n",
    "df = pd.read_csv(\"../input/big-data-analytics-certification-kr-2022/nf.csv\")\n",
    "\n",
    "cond1 = df['country'] == \"United Kingdom\"\n",
    "\n",
    "df['date_added'] = pd.to_datetime(df['date_added'])\n",
    "df['year'] = df['date_added'].dt.year\n",
    "df['month'] = df['date_added'].dt.month\n",
    "\n",
    "\n",
    "cond2 = df['year'] == 2018\n",
    "cond3 = df['month'] == 1\n",
    "\n",
    "print(len(df[cond1 & cond2 & cond3]))"
   ]
  },
  {
   "cell_type": "code",
   "execution_count": 11,
   "id": "26d3a034",
   "metadata": {
    "execution": {
     "iopub.execute_input": "2024-05-03T18:14:04.654898Z",
     "iopub.status.busy": "2024-05-03T18:14:04.653918Z",
     "iopub.status.idle": "2024-05-03T18:14:04.936201Z",
     "shell.execute_reply": "2024-05-03T18:14:04.934838Z"
    },
    "papermill": {
     "duration": 0.2929,
     "end_time": "2024-05-03T18:14:04.938931",
     "exception": false,
     "start_time": "2024-05-03T18:14:04.646031",
     "status": "completed"
    },
    "tags": []
   },
   "outputs": [
    {
     "name": "stdout",
     "output_type": "stream",
     "text": [
      "6\n"
     ]
    }
   ],
   "source": [
    "# 풀이2 datatime 활용2\n",
    "import pandas as pd\n",
    "df = pd.read_csv(\"../input/big-data-analytics-certification-kr-2022/nf.csv\")\n",
    "\n",
    "cond1 = df['country'] == \"United Kingdom\"\n",
    "\n",
    "df['date_added'] = pd.to_datetime(df['date_added'])\n",
    "\n",
    "cond2 = df['date_added'] >= '2018-1-1'\n",
    "cond3 = df['date_added'] <= '2018-1-31'\n",
    "\n",
    "print(len(df[cond1 & cond2 & cond3]))"
   ]
  },
  {
   "cell_type": "code",
   "execution_count": 12,
   "id": "9ba51df0",
   "metadata": {
    "execution": {
     "iopub.execute_input": "2024-05-03T18:14:04.956690Z",
     "iopub.status.busy": "2024-05-03T18:14:04.955399Z",
     "iopub.status.idle": "2024-05-03T18:14:05.235884Z",
     "shell.execute_reply": "2024-05-03T18:14:05.235002Z"
    },
    "papermill": {
     "duration": 0.292518,
     "end_time": "2024-05-03T18:14:05.239323",
     "exception": false,
     "start_time": "2024-05-03T18:14:04.946805",
     "status": "completed"
    },
    "tags": []
   },
   "outputs": [
    {
     "name": "stdout",
     "output_type": "stream",
     "text": [
      "6\n"
     ]
    }
   ],
   "source": [
    "# 풀이3 datatime + between 활용\n",
    "import pandas as pd\n",
    "df = pd.read_csv(\"../input/big-data-analytics-certification-kr-2022/nf.csv\")\n",
    "\n",
    "cond1 = df['country'] == \"United Kingdom\"\n",
    "df['date_added'] = pd.to_datetime(df['date_added'])\n",
    "cond2 = df['date_added'].between('2018-1-1', '2018-1-31')\n",
    "print(len(df[cond1 & cond2]))"
   ]
  },
  {
   "cell_type": "code",
   "execution_count": 13,
   "id": "a0d2d02b",
   "metadata": {
    "execution": {
     "iopub.execute_input": "2024-05-03T18:14:05.258239Z",
     "iopub.status.busy": "2024-05-03T18:14:05.257721Z",
     "iopub.status.idle": "2024-05-03T18:14:05.335135Z",
     "shell.execute_reply": "2024-05-03T18:14:05.333792Z"
    },
    "papermill": {
     "duration": 0.090425,
     "end_time": "2024-05-03T18:14:05.339878",
     "exception": false,
     "start_time": "2024-05-03T18:14:05.249453",
     "status": "completed"
    },
    "tags": []
   },
   "outputs": [
    {
     "name": "stdout",
     "output_type": "stream",
     "text": [
      "6\n"
     ]
    }
   ],
   "source": [
    "# 풀이4\n",
    "import pandas as pd\n",
    "df = pd.read_csv(\"../input/big-data-analytics-certification-kr-2022/nf.csv\")\n",
    "\n",
    "cond1 = df['country'] == \"United Kingdom\"\n",
    "\n",
    "df['date_added'] = df['date_added'].fillna(\"\")\n",
    "\n",
    "str1 = \"2018\"\n",
    "str2 = \"January\"\n",
    "cond2 = df['date_added'].str.contains(str1)\n",
    "cond3 = df['date_added'].str.contains(str2)\n",
    "\n",
    "print(len(df[cond1 & cond2 & cond3]))"
   ]
  },
  {
   "cell_type": "markdown",
   "id": "62b97788",
   "metadata": {
    "papermill": {
     "duration": 0.006828,
     "end_time": "2024-05-03T18:14:05.357817",
     "exception": false,
     "start_time": "2024-05-03T18:14:05.350989",
     "status": "completed"
    },
    "tags": []
   },
   "source": [
    "### (추가 문제) 4. 그런데 만약 'country'컬럼에 대소문자 함께 있고, 띄어쓰기가 있는 것도 있고 없는 것도 있다면?"
   ]
  },
  {
   "cell_type": "code",
   "execution_count": 14,
   "id": "0f5931e9",
   "metadata": {
    "execution": {
     "iopub.execute_input": "2024-05-03T18:14:05.374027Z",
     "iopub.status.busy": "2024-05-03T18:14:05.373509Z",
     "iopub.status.idle": "2024-05-03T18:14:05.652884Z",
     "shell.execute_reply": "2024-05-03T18:14:05.651847Z"
    },
    "papermill": {
     "duration": 0.291143,
     "end_time": "2024-05-03T18:14:05.655937",
     "exception": false,
     "start_time": "2024-05-03T18:14:05.364794",
     "status": "completed"
    },
    "tags": []
   },
   "outputs": [
    {
     "name": "stdout",
     "output_type": "stream",
     "text": [
      "6\n"
     ]
    }
   ],
   "source": [
    "import pandas as pd\n",
    "df = pd.read_csv(\"../input/big-data-analytics-certification-kr-2022/nf.csv\")\n",
    "\n",
    "# 띄어쓰기 제거\n",
    "df['country'] = df['country'].str.replace(' ','')\n",
    "\n",
    "# 소문자로 변경\n",
    "df['country'] = df['country'].str.lower()\n",
    "df['country']\n",
    "\n",
    "cond1 = df['country'] == \"unitedkingdom\"\n",
    "\n",
    "df['date_added'] = pd.to_datetime(df['date_added'])\n",
    "df['year'] = df['date_added'].dt.year\n",
    "df['month'] = df['date_added'].dt.month\n",
    "\n",
    "\n",
    "cond2 = df['year'] == 2018\n",
    "cond3 = df['month'] == 1\n",
    "\n",
    "print(len(df[cond1 & cond2 & cond3]))"
   ]
  }
 ],
 "metadata": {
  "kaggle": {
   "accelerator": "none",
   "dataSources": [
    {
     "databundleVersionId": 4530214,
     "sourceId": 37407,
     "sourceType": "competition"
    },
    {
     "datasetId": 1633303,
     "sourceId": 7099002,
     "sourceType": "datasetVersion"
    }
   ],
   "dockerImageVersionId": 30301,
   "isGpuEnabled": false,
   "isInternetEnabled": false,
   "language": "python",
   "sourceType": "notebook"
  },
  "kernelspec": {
   "display_name": "Python 3",
   "language": "python",
   "name": "python3"
  },
  "language_info": {
   "codemirror_mode": {
    "name": "ipython",
    "version": 3
   },
   "file_extension": ".py",
   "mimetype": "text/x-python",
   "name": "python",
   "nbconvert_exporter": "python",
   "pygments_lexer": "ipython3",
   "version": "3.7.12"
  },
  "papermill": {
   "default_parameters": {},
   "duration": 12.942668,
   "end_time": "2024-05-03T18:14:06.391624",
   "environment_variables": {},
   "exception": null,
   "input_path": "__notebook__.ipynb",
   "output_path": "__notebook__.ipynb",
   "parameters": {},
   "start_time": "2024-05-03T18:13:53.448956",
   "version": "2.3.4"
  }
 },
 "nbformat": 4,
 "nbformat_minor": 5
}
